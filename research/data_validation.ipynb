{
 "cells": [
  {
   "cell_type": "code",
   "id": "initial_id",
   "metadata": {
    "collapsed": true,
    "ExecuteTime": {
     "end_time": "2025-03-21T06:00:22.570304Z",
     "start_time": "2025-03-21T06:00:22.549295Z"
    }
   },
   "source": "import os",
   "execution_count": 1,
   "outputs": []
  },
  {
   "metadata": {
    "ExecuteTime": {
     "end_time": "2025-03-21T06:00:24.201349Z",
     "start_time": "2025-03-21T06:00:24.169234Z"
    }
   },
   "cell_type": "code",
   "source": "%pwd",
   "id": "858f419a689c7871",
   "execution_count": 2,
   "outputs": []
  },
  {
   "metadata": {
    "ExecuteTime": {
     "end_time": "2025-03-21T06:00:26.509007Z",
     "start_time": "2025-03-21T06:00:26.496943Z"
    }
   },
   "cell_type": "code",
   "source": "os.chdir(\"../\")",
   "id": "6a26142923661cde",
   "execution_count": 3,
   "outputs": []
  },
  {
   "metadata": {
    "ExecuteTime": {
     "end_time": "2025-03-21T06:00:27.525979Z",
     "start_time": "2025-03-21T06:00:27.509830Z"
    }
   },
   "cell_type": "code",
   "source": "%pwd",
   "id": "510e033f7f76074",
   "execution_count": 4,
   "outputs": []
  },
  {
   "metadata": {
    "ExecuteTime": {
     "end_time": "2025-03-21T06:00:29.022712Z",
     "start_time": "2025-03-21T06:00:29.010021Z"
    }
   },
   "cell_type": "code",
   "source": [
    "from pathlib import Path\n",
    "from dataclasses import dataclass\n",
    "\n",
    "@dataclass(frozen=True)\n",
    "class DataValidationConfig:\n",
    "    root_dir: Path\n",
    "    unzip_data_dir: str\n",
    "    STATUS_FILE: Path\n",
    "    all_schema: dict"
   ],
   "id": "9270fe1ecb1014fd",
   "execution_count": 5,
   "outputs": []
  },
  {
   "metadata": {
    "ExecuteTime": {
     "end_time": "2025-03-21T06:00:31.799322Z",
     "start_time": "2025-03-21T06:00:30.980721Z"
    }
   },
   "cell_type": "code",
   "source": [
    "from src.constants import *\n",
    "from src.utils.common import read_yaml, create_directories"
   ],
   "id": "676e9f68a873e733",
   "execution_count": 6,
   "outputs": []
  },
  {
   "metadata": {
    "ExecuteTime": {
     "end_time": "2025-03-21T06:44:01.561875Z",
     "start_time": "2025-03-21T06:44:01.553937Z"
    }
   },
   "cell_type": "code",
   "source": [
    "class ConfigurationManager:\n",
    "    def __init__(self, \n",
    "                 config_filepath = CONFIG_FILE_PATH, \n",
    "                 schema_filepath = SCHEMA_FILE_PATH,\n",
    "                params_filepath = PARAMS_FILE_PATH):\n",
    "        \n",
    "        self.config = read_yaml(config_filepath)\n",
    "        self.schema = read_yaml(schema_filepath)\n",
    "        self.params = read_yaml(params_filepath)\n",
    "        \n",
    "        create_directories([self.config.artifacts_root])\n",
    "    \n",
    "    def get_data_validation_config(self) -> DataValidationConfig:\n",
    "        \n",
    "        config = self.config.data_validation\n",
    "        create_directories([config.root_dir])\n",
    "        \n",
    "        data_validation_config = DataValidationConfig(\n",
    "            root_dir= config.root_dir,\n",
    "            unzip_data_dir= config.unzip_data_dir,\n",
    "            STATUS_FILE= config.STATUS_FILE,\n",
    "            all_schema= self.schema.COLUMNS\n",
    "        )\n",
    "        return data_validation_config\n",
    "    \n",
    "    "
   ],
   "id": "ef69de2f0bde5776",
   "execution_count": 28,
   "outputs": []
  },
  {
   "metadata": {
    "ExecuteTime": {
     "end_time": "2025-03-21T06:44:03.769634Z",
     "start_time": "2025-03-21T06:44:03.732504Z"
    }
   },
   "cell_type": "code",
   "source": [
    "temp = ConfigurationManager()\n",
    "config = temp.get_data_validation_config()\n",
    "config.all_schema['fixed acidity'] == df.alcohol.dtype"
   ],
   "id": "641750ec874bb831",
   "execution_count": 29,
   "outputs": []
  },
  {
   "metadata": {
    "ExecuteTime": {
     "end_time": "2025-03-21T06:27:28.542892Z",
     "start_time": "2025-03-21T06:27:28.511290Z"
    }
   },
   "cell_type": "code",
   "source": [
    "import pandas as pd\n",
    "df = pd.read_csv(\"research/winequality-red.csv\")\n",
    "set(df.columns) == set(config.all_schema.keys())"
   ],
   "id": "5a6915a48cba8ba3",
   "execution_count": 21,
   "outputs": []
  },
  {
   "metadata": {
    "ExecuteTime": {
     "end_time": "2025-03-21T06:51:56.056740Z",
     "start_time": "2025-03-21T06:51:56.033099Z"
    }
   },
   "cell_type": "code",
   "source": [
    "import pandas as pd\n",
    "from src.logging import logger\n",
    "\n",
    "class DataValidation:\n",
    "    \n",
    "    def __init__(self, config: DataValidationConfig):\n",
    "        self.config = config\n",
    "        self.dataframe = pd.read_csv(self.config.unzip_data_dir)\n",
    "        self.df_cols = set(self.dataframe.columns)\n",
    "    \n",
    "    def validate_all_columns(self) -> bool:\n",
    "        try:\n",
    "            schema_cols = self.config.all_schema.keys()\n",
    "            \n",
    "            validation_status = set(self.df_cols) == set(schema_cols)\n",
    "                    \n",
    "            with open(self.config.STATUS_FILE, \"w\") as status_file:\n",
    "                status_file.write(f\"Column Validation Status: {validation_status}\\n\")\n",
    "            \n",
    "            return validation_status\n",
    "        except Exception as e:\n",
    "            logger.exception(f\"{e}\")\n",
    "            raise e\n",
    "    \n",
    "    def validata_dtype_of_columns(self):\n",
    "        try:\n",
    "            validation_status = True\n",
    "            \n",
    "            for col in self.df_cols:\n",
    "                if self.dataframe[col].dtype != self.config.all_schema[col]:\n",
    "                    validation_status = False\n",
    "                    logger.error(f\"In Schema {col} data type is {self.config.all_schema[col]} but in data the datatype is {self.dataframe[col].dtype}\")\n",
    "                    break\n",
    "            \n",
    "            with open(self.config.STATUS_FILE, \"a\") as status_file:\n",
    "                    status_file.write(f\"Column Data Type Validation Status: {validation_status}\\n\")\n",
    "        except Exception as e:\n",
    "            logger.exception(f\"{e}\")\n",
    "            raise e\n",
    "        "
   ],
   "id": "fe9a441480c09985",
   "execution_count": 36,
   "outputs": []
  },
  {
   "metadata": {
    "ExecuteTime": {
     "end_time": "2025-03-21T06:51:58.935107Z",
     "start_time": "2025-03-21T06:51:58.892026Z"
    }
   },
   "cell_type": "code",
   "source": [
    "config = ConfigurationManager()\n",
    "data_validation_config = config.get_data_validation_config()\n",
    "data_validation = DataValidation(data_validation_config)\n",
    "data_validation.validate_all_columns()\n",
    "data_validation.validata_dtype_of_columns()"
   ],
   "id": "d0fbc06ec27e61c5",
   "execution_count": 37,
   "outputs": []
  },
  {
   "metadata": {},
   "cell_type": "code",
   "execution_count": null,
   "source": "",
   "id": "bfcf8942f39aeb48",
   "outputs": []
  }
 ],
 "metadata": {
  "kernelspec": {
   "display_name": "Python 3",
   "language": "python",
   "name": "python3"
  },
  "language_info": {
   "codemirror_mode": {
    "name": "ipython",
    "version": 2
   },
   "file_extension": ".py",
   "mimetype": "text/x-python",
   "name": "python",
   "nbconvert_exporter": "python",
   "pygments_lexer": "ipython2",
   "version": "2.7.6"
  }
 },
 "nbformat": 4,
 "nbformat_minor": 5
}
