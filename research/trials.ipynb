{
 "cells": [
  {
   "cell_type": "code",
   "id": "initial_id",
   "metadata": {
    "collapsed": true,
    "ExecuteTime": {
     "end_time": "2025-03-20T09:11:24.495007Z",
     "start_time": "2025-03-20T09:11:24.373788Z"
    }
   },
   "source": "from box import ConfigBox",
   "outputs": [],
   "execution_count": 1
  },
  {
   "metadata": {
    "ExecuteTime": {
     "end_time": "2025-03-20T09:13:16.499894Z",
     "start_time": "2025-03-20T09:13:16.487555Z"
    }
   },
   "cell_type": "code",
   "source": [
    "d = {\n",
    "    \"name\": \"kishor\",\n",
    "    \"age\": 20,\n",
    "    \"gender\": \"male\"\n",
    "}"
   ],
   "id": "8f943d0a6b5b28a7",
   "outputs": [],
   "execution_count": 2
  },
  {
   "metadata": {
    "ExecuteTime": {
     "end_time": "2025-03-20T09:13:23.679448Z",
     "start_time": "2025-03-20T09:13:22.694033Z"
    }
   },
   "cell_type": "code",
   "source": "d.name",
   "id": "4f2941ea6a04f034",
   "outputs": [
    {
     "ename": "AttributeError",
     "evalue": "'dict' object has no attribute 'name'",
     "output_type": "error",
     "traceback": [
      "\u001B[31m---------------------------------------------------------------------------\u001B[39m",
      "\u001B[31mAttributeError\u001B[39m                            Traceback (most recent call last)",
      "\u001B[36mCell\u001B[39m\u001B[36m \u001B[39m\u001B[32mIn[3]\u001B[39m\u001B[32m, line 1\u001B[39m\n\u001B[32m----> \u001B[39m\u001B[32m1\u001B[39m \u001B[43md\u001B[49m\u001B[43m.\u001B[49m\u001B[43mname\u001B[49m\n",
      "\u001B[31mAttributeError\u001B[39m: 'dict' object has no attribute 'name'"
     ]
    }
   ],
   "execution_count": 3
  },
  {
   "metadata": {
    "ExecuteTime": {
     "end_time": "2025-03-20T09:13:40.627715Z",
     "start_time": "2025-03-20T09:13:40.620086Z"
    }
   },
   "cell_type": "code",
   "source": "stud = ConfigBox(d)",
   "id": "8c98fa7b3602a987",
   "outputs": [],
   "execution_count": 4
  },
  {
   "metadata": {
    "ExecuteTime": {
     "end_time": "2025-03-20T09:13:44.155660Z",
     "start_time": "2025-03-20T09:13:44.080972Z"
    }
   },
   "cell_type": "code",
   "source": "stud.name",
   "id": "1dc8d39fcda6cb48",
   "outputs": [
    {
     "data": {
      "text/plain": [
       "'kishor'"
      ]
     },
     "execution_count": 5,
     "metadata": {},
     "output_type": "execute_result"
    }
   ],
   "execution_count": 5
  },
  {
   "metadata": {
    "ExecuteTime": {
     "end_time": "2025-03-20T09:13:47.897552Z",
     "start_time": "2025-03-20T09:13:47.883075Z"
    }
   },
   "cell_type": "code",
   "source": "stud.age",
   "id": "90eee279960598e8",
   "outputs": [
    {
     "data": {
      "text/plain": [
       "20"
      ]
     },
     "execution_count": 6,
     "metadata": {},
     "output_type": "execute_result"
    }
   ],
   "execution_count": 6
  },
  {
   "metadata": {
    "ExecuteTime": {
     "end_time": "2025-03-20T09:14:28.699981Z",
     "start_time": "2025-03-20T09:14:28.678343Z"
    }
   },
   "cell_type": "code",
   "source": "type(stud)",
   "id": "f29ec58d31748bdd",
   "outputs": [
    {
     "data": {
      "text/plain": [
       "box.config_box.ConfigBox"
      ]
     },
     "execution_count": 7,
     "metadata": {},
     "output_type": "execute_result"
    }
   ],
   "execution_count": 7
  },
  {
   "metadata": {
    "ExecuteTime": {
     "end_time": "2025-03-20T16:02:06.664617Z",
     "start_time": "2025-03-20T16:02:05.432579Z"
    }
   },
   "cell_type": "code",
   "source": [
    "from urllib import request\n",
    "filename, headers = request.urlretrieve(\"https://github.com/kishor2004reddy/Datasets/raw/refs/heads/main/WineQuality.zip\", \"data.zip\")"
   ],
   "id": "f63c947900e9660b",
   "outputs": [],
   "execution_count": 2
  },
  {
   "metadata": {
    "ExecuteTime": {
     "end_time": "2025-03-20T16:02:09.046671Z",
     "start_time": "2025-03-20T16:02:09.029934Z"
    }
   },
   "cell_type": "code",
   "source": "headers",
   "id": "c463602cf3bad176",
   "outputs": [
    {
     "data": {
      "text/plain": [
       "<http.client.HTTPMessage at 0x1de18354380>"
      ]
     },
     "execution_count": 3,
     "metadata": {},
     "output_type": "execute_result"
    }
   ],
   "execution_count": 3
  },
  {
   "metadata": {},
   "cell_type": "code",
   "outputs": [],
   "execution_count": null,
   "source": "",
   "id": "9933b756c933d9ce"
  }
 ],
 "metadata": {
  "kernelspec": {
   "display_name": "Python 3",
   "language": "python",
   "name": "python3"
  },
  "language_info": {
   "codemirror_mode": {
    "name": "ipython",
    "version": 2
   },
   "file_extension": ".py",
   "mimetype": "text/x-python",
   "name": "python",
   "nbconvert_exporter": "python",
   "pygments_lexer": "ipython2",
   "version": "2.7.6"
  }
 },
 "nbformat": 4,
 "nbformat_minor": 5
}
