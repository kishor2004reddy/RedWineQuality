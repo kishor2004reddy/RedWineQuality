{
 "cells": [
  {
   "cell_type": "code",
   "id": "initial_id",
   "metadata": {
    "collapsed": true,
    "ExecuteTime": {
     "end_time": "2025-03-21T08:57:44.275862Z",
     "start_time": "2025-03-21T08:57:44.257994Z"
    }
   },
   "source": [
    "import os\n",
    "\n",
    "import pandas as pd"
   ],
   "outputs": [],
   "execution_count": 1
  },
  {
   "metadata": {
    "ExecuteTime": {
     "end_time": "2025-03-21T08:57:44.327471Z",
     "start_time": "2025-03-21T08:57:44.278379Z"
    }
   },
   "cell_type": "code",
   "source": "%pwd",
   "id": "a4e3fbdd93415499",
   "outputs": [
    {
     "data": {
      "text/plain": [
       "'C:\\\\Users\\\\kisho\\\\MyWork\\\\RedWineQuality\\\\research'"
      ]
     },
     "execution_count": 2,
     "metadata": {},
     "output_type": "execute_result"
    }
   ],
   "execution_count": 2
  },
  {
   "metadata": {
    "ExecuteTime": {
     "end_time": "2025-03-21T08:57:44.358965Z",
     "start_time": "2025-03-21T08:57:44.328501Z"
    }
   },
   "cell_type": "code",
   "source": "os.chdir(\"../\")",
   "id": "419c789c1ea18875",
   "outputs": [],
   "execution_count": 3
  },
  {
   "metadata": {
    "ExecuteTime": {
     "end_time": "2025-03-21T08:57:44.396723Z",
     "start_time": "2025-03-21T08:57:44.362527Z"
    }
   },
   "cell_type": "code",
   "source": "%pwd",
   "id": "cf0587d682dfa7ca",
   "outputs": [
    {
     "data": {
      "text/plain": [
       "'C:\\\\Users\\\\kisho\\\\MyWork\\\\RedWineQuality'"
      ]
     },
     "execution_count": 4,
     "metadata": {},
     "output_type": "execute_result"
    }
   ],
   "execution_count": 4
  },
  {
   "metadata": {
    "ExecuteTime": {
     "end_time": "2025-03-21T09:00:01.821893Z",
     "start_time": "2025-03-21T09:00:01.796879Z"
    }
   },
   "cell_type": "code",
   "source": [
    "from dataclasses import dataclass\n",
    "from pathlib import Path\n",
    "\n",
    "@dataclass(frozen=True)\n",
    "class DataTransformationConfig:\n",
    "    root_dir: Path\n",
    "    data_path: Path"
   ],
   "id": "cde77b84cfe97d0a",
   "outputs": [],
   "execution_count": 5
  },
  {
   "metadata": {
    "ExecuteTime": {
     "end_time": "2025-03-21T09:04:53.652199Z",
     "start_time": "2025-03-21T09:04:52.275403Z"
    }
   },
   "cell_type": "code",
   "source": [
    "from src.constants import *\n",
    "from src.utils.common import read_yaml, create_directories\n",
    "\n",
    "\n",
    "class ConfigurationManager:\n",
    "    def __init__(self, \n",
    "                 config_filepath = CONFIG_FILE_PATH, \n",
    "                 schema_filepath = SCHEMA_FILE_PATH,\n",
    "                params_filepath = PARAMS_FILE_PATH):\n",
    "        \n",
    "        self.config = read_yaml(config_filepath)\n",
    "        self.schema = read_yaml(schema_filepath)\n",
    "        self.params = read_yaml(params_filepath)\n",
    "        \n",
    "        create_directories([self.config.artifacts_root])\n",
    "        \n",
    "    def get_data_transformation_config(self) -> DataTransformationConfig:\n",
    "        \n",
    "        config = self.config.data_transformation\n",
    "        \n",
    "        create_directories([config.root_dir])\n",
    "        \n",
    "        data_transformation_config = DataTransformationConfig(\n",
    "            root_dir=config.root_dir,\n",
    "            data_path=config.data_path\n",
    "        )\n",
    "        return data_transformation_config\n",
    "        "
   ],
   "id": "5f8386fef774fe5e",
   "outputs": [],
   "execution_count": 6
  },
  {
   "metadata": {
    "ExecuteTime": {
     "end_time": "2025-03-21T09:28:21.871766Z",
     "start_time": "2025-03-21T09:28:21.859494Z"
    }
   },
   "cell_type": "code",
   "source": [
    "import pandas as pd\n",
    "import os\n",
    "from sklearn.model_selection import train_test_split\n",
    "from src.logging import logger\n",
    "\n",
    "\n",
    "class DataTransformation:\n",
    "    def __init__(self, config: DataTransformationConfig):\n",
    "        self.config = config\n",
    "    \n",
    "    def train_test_split(self):\n",
    "        \n",
    "        dataframe = pd.read_csv(self.config.data_path)\n",
    "        train, test = train_test_split(dataframe, test_size=0.2)\n",
    "        \n",
    "        train.to_csv(os.path.join(self.config.root_dir, \"train.csv\"), index = False)\n",
    "        test.to_csv(os.path.join(self.config.root_dir, \"test.csv\"), index = False)\n",
    "        \n",
    "        logger.info(f\"Data is split into train and test\")\n",
    "        logger.info(f\"Train shape: {train.shape}\")\n",
    "        logger.info(f\"Test shape: {test.shape}\")    \n",
    "        "
   ],
   "id": "a95f8fb3738dfc78",
   "outputs": [],
   "execution_count": 15
  },
  {
   "metadata": {
    "ExecuteTime": {
     "end_time": "2025-03-21T09:31:05.462672Z",
     "start_time": "2025-03-21T09:31:05.322363Z"
    }
   },
   "cell_type": "code",
   "source": [
    "try:\n",
    "    config = ConfigurationManager()\n",
    "    data_transform_config = config.get_data_transformation_config()\n",
    "    data_transform = DataTransformation(config=data_transform_config)\n",
    "    data_transform.train_test_split()\n",
    "except Exception as e:\n",
    "    logger.exception(f\"{e}\")\n",
    "    raise e"
   ],
   "id": "54c7cfa16d9701ed",
   "outputs": [
    {
     "name": "stdout",
     "output_type": "stream",
     "text": [
      "[2025-03-21 15:01:05,337: INFO: common: config\\config.yaml file loaded successfully]\n",
      "[2025-03-21 15:01:05,353: INFO: common: schema.yaml file loaded successfully]\n",
      "[2025-03-21 15:01:05,353: INFO: common: params.yaml file loaded successfully]\n",
      "Directory 'artifacts' already exists.\n",
      "Directory 'artifacts/data_transformation' created successfully.\n",
      "[2025-03-21 15:01:05,447: INFO: 2268440589: Data is split into train and test]\n",
      "[2025-03-21 15:01:05,447: INFO: 2268440589: Train shape: (1279, 12)]\n",
      "[2025-03-21 15:01:05,447: INFO: 2268440589: Test shape: (320, 12)]\n"
     ]
    }
   ],
   "execution_count": 16
  },
  {
   "metadata": {
    "ExecuteTime": {
     "end_time": "2025-03-21T09:22:39.209400Z",
     "start_time": "2025-03-21T09:22:39.188490Z"
    }
   },
   "cell_type": "code",
   "source": "",
   "id": "3c1a20b9764ca306",
   "outputs": [
    {
     "data": {
      "text/plain": [
       "((1279, 12), (320, 12))"
      ]
     },
     "execution_count": 14,
     "metadata": {},
     "output_type": "execute_result"
    }
   ],
   "execution_count": 14
  },
  {
   "metadata": {},
   "cell_type": "code",
   "outputs": [],
   "execution_count": null,
   "source": "",
   "id": "e198044e69843ae1"
  }
 ],
 "metadata": {
  "kernelspec": {
   "display_name": "Python 3",
   "language": "python",
   "name": "python3"
  },
  "language_info": {
   "codemirror_mode": {
    "name": "ipython",
    "version": 2
   },
   "file_extension": ".py",
   "mimetype": "text/x-python",
   "name": "python",
   "nbconvert_exporter": "python",
   "pygments_lexer": "ipython2",
   "version": "2.7.6"
  }
 },
 "nbformat": 4,
 "nbformat_minor": 5
}
