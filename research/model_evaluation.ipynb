{
 "cells": [
  {
   "cell_type": "code",
   "id": "initial_id",
   "metadata": {
    "collapsed": true,
    "ExecuteTime": {
     "end_time": "2025-03-21T13:00:40.944Z",
     "start_time": "2025-03-21T13:00:40.932517Z"
    }
   },
   "source": "import os",
   "outputs": [],
   "execution_count": 1
  },
  {
   "metadata": {
    "ExecuteTime": {
     "end_time": "2025-03-21T13:00:40.969364Z",
     "start_time": "2025-03-21T13:00:40.944Z"
    }
   },
   "cell_type": "code",
   "source": "os.chdir(\"../\")",
   "id": "ad4096a6a6dde940",
   "outputs": [],
   "execution_count": 2
  },
  {
   "metadata": {
    "ExecuteTime": {
     "end_time": "2025-03-21T13:00:40.994940Z",
     "start_time": "2025-03-21T13:00:40.969364Z"
    }
   },
   "cell_type": "code",
   "source": "%pwd",
   "id": "f76c7e94961a0846",
   "outputs": [
    {
     "data": {
      "text/plain": [
       "'C:\\\\Users\\\\kisho\\\\MyWork\\\\RedWineQuality'"
      ]
     },
     "execution_count": 3,
     "metadata": {},
     "output_type": "execute_result"
    }
   ],
   "execution_count": 3
  },
  {
   "metadata": {
    "ExecuteTime": {
     "end_time": "2025-03-21T13:00:41.014302Z",
     "start_time": "2025-03-21T13:00:40.995946Z"
    }
   },
   "cell_type": "code",
   "source": [
    "from dataclasses import dataclass\n",
    "from pathlib import Path\n",
    "\n",
    "@dataclass(frozen=True)\n",
    "class ModelEvaluationConfig:\n",
    "    root_dir: Path\n",
    "    test_data_path: Path\n",
    "    model_path: Path\n",
    "    metric_file_name: Path\n",
    "    all_params: dict\n",
    "    target_column: str"
   ],
   "id": "3695bb544846411f",
   "outputs": [],
   "execution_count": 4
  },
  {
   "metadata": {
    "ExecuteTime": {
     "end_time": "2025-03-21T13:00:41.918849Z",
     "start_time": "2025-03-21T13:00:41.014302Z"
    }
   },
   "cell_type": "code",
   "source": [
    "from src.constants import *\n",
    "from src.utils.common import read_yaml, create_directories\n",
    "\n",
    "\n",
    "class ConfigurationManager:\n",
    "    def __init__(self,\n",
    "                 config_filepath=CONFIG_FILE_PATH,\n",
    "                 schema_filepath=SCHEMA_FILE_PATH,\n",
    "                 params_filepath=PARAMS_FILE_PATH):\n",
    "        self.config = read_yaml(config_filepath)\n",
    "        self.schema = read_yaml(schema_filepath)\n",
    "        self.params = read_yaml(params_filepath)\n",
    "\n",
    "        create_directories([self.config.artifacts_root])\n",
    "    \n",
    "    def get_model_evaluation_config(self) -> ModelEvaluationConfig:\n",
    "        config = self.config.model_evaluation\n",
    "        params = self.params.ElasticNet\n",
    "        create_directories([config.root_dir])\n",
    "        \n",
    "        model_eval_config = ModelEvaluationConfig(\n",
    "            root_dir=config.root_dir,\n",
    "            test_data_path=config.test_data_path,\n",
    "            model_path=config.model_path,\n",
    "            metric_file_name=config.metric_file_name,\n",
    "            all_params=params,\n",
    "            target_column=self.schema.TARGET_COLUMN.name\n",
    "        )\n",
    "        return model_eval_config\n",
    "    "
   ],
   "id": "425707a357ce101c",
   "outputs": [],
   "execution_count": 5
  },
  {
   "metadata": {
    "ExecuteTime": {
     "end_time": "2025-03-21T13:00:44.334837Z",
     "start_time": "2025-03-21T13:00:41.920867Z"
    }
   },
   "cell_type": "code",
   "source": [
    "import os\n",
    "import joblib\n",
    "from sklearn.metrics import mean_absolute_error, mean_squared_error, r2_score\n",
    "from src.utils.common import save_json\n",
    "import pandas as pd\n",
    "import numpy as np\n",
    "\n",
    "\n",
    "class ModelEvaluation:\n",
    "    def __init__(self, config: ModelEvaluationConfig):\n",
    "        self.config = config\n",
    "        \n",
    "    @staticmethod\n",
    "    def eval_metrics(actual, predicted):\n",
    "        rmse = np.sqrt(mean_squared_error(actual, predicted))\n",
    "        mae = mean_absolute_error(actual, predicted)\n",
    "        r2 = r2_score(actual, predicted)\n",
    "        return rmse, mae, r2\n",
    "    \n",
    "    def save_results(self):\n",
    "        \n",
    "        test = pd.read_csv(self.config.test_data_path)\n",
    "        model = joblib.load(self.config.model_path)\n",
    "        \n",
    "        X_test = test.drop(columns = [self.config.target_column])\n",
    "        y_test = test[self.config.target_column]\n",
    "        \n",
    "        predicted = model.predict(X_test)\n",
    "\n",
    "        rmse, mae, r2 = ModelEvaluation.eval_metrics(y_test, predicted)\n",
    "        \n",
    "        scores = {\n",
    "            \"Root Mean Squared Error\": rmse,\n",
    "            \"Mean Absolute Error\": mae,\n",
    "            \"R2 Score\": r2\n",
    "        }\n",
    "        \n",
    "        save_json(path=Path(self.config.metric_file_name), data=scores)\n",
    "        "
   ],
   "id": "2aab8d4b4554681c",
   "outputs": [],
   "execution_count": 6
  },
  {
   "metadata": {
    "ExecuteTime": {
     "end_time": "2025-03-21T13:00:44.610190Z",
     "start_time": "2025-03-21T13:00:44.334837Z"
    }
   },
   "cell_type": "code",
   "source": [
    "from src.logging import logger\n",
    "\n",
    "try:\n",
    "    config = ConfigurationManager()\n",
    "    model_eval_config = config.get_model_evaluation_config()\n",
    "    model_eval = ModelEvaluation(config=model_eval_config)\n",
    "    model_eval.save_results()\n",
    "except Exception as e:\n",
    "    logger.exception(f\"{e}\")\n",
    "    raise e"
   ],
   "id": "a733856556141b6c",
   "outputs": [
    {
     "name": "stdout",
     "output_type": "stream",
     "text": [
      "[2025-03-21 18:30:44,341: INFO: common: config\\config.yaml file loaded successfully]\n",
      "[2025-03-21 18:30:44,341: INFO: common: schema.yaml file loaded successfully]\n",
      "[2025-03-21 18:30:44,357: INFO: common: params.yaml file loaded successfully]\n",
      "Directory 'artifacts' already exists.\n",
      "Directory 'artifacts/model_evaluation' already exists.\n",
      "[2025-03-21 18:30:44,592: INFO: common: json file saved at: artifacts\\model_evaluation\\metrics.json]\n"
     ]
    }
   ],
   "execution_count": 7
  },
  {
   "metadata": {
    "ExecuteTime": {
     "end_time": "2025-03-21T13:00:44.617115Z",
     "start_time": "2025-03-21T13:00:44.610190Z"
    }
   },
   "cell_type": "code",
   "source": "",
   "id": "4520414c31a1e97b",
   "outputs": [],
   "execution_count": 7
  }
 ],
 "metadata": {
  "kernelspec": {
   "display_name": "Python 3",
   "language": "python",
   "name": "python3"
  },
  "language_info": {
   "codemirror_mode": {
    "name": "ipython",
    "version": 2
   },
   "file_extension": ".py",
   "mimetype": "text/x-python",
   "name": "python",
   "nbconvert_exporter": "python",
   "pygments_lexer": "ipython2",
   "version": "2.7.6"
  }
 },
 "nbformat": 4,
 "nbformat_minor": 5
}
