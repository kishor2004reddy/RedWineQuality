{
 "cells": [
  {
   "cell_type": "code",
   "id": "initial_id",
   "metadata": {
    "ExecuteTime": {
     "end_time": "2025-03-20T15:08:16.979214Z",
     "start_time": "2025-03-20T15:08:16.953504Z"
    }
   },
   "source": [
    "import logging\n",
    "import os"
   ],
   "outputs": [],
   "execution_count": 1
  },
  {
   "cell_type": "code",
   "id": "d3fa8e302914e574",
   "metadata": {
    "ExecuteTime": {
     "end_time": "2025-03-20T15:08:18.769706Z",
     "start_time": "2025-03-20T15:08:18.743637Z"
    }
   },
   "source": [
    "%pwd"
   ],
   "outputs": [
    {
     "data": {
      "text/plain": [
       "'C:\\\\Users\\\\kisho\\\\MyWork\\\\RedWineQuality\\\\research'"
      ]
     },
     "execution_count": 2,
     "metadata": {},
     "output_type": "execute_result"
    }
   ],
   "execution_count": 2
  },
  {
   "cell_type": "code",
   "id": "98c152b3934093f3",
   "metadata": {
    "ExecuteTime": {
     "end_time": "2025-03-20T15:08:20.345311Z",
     "start_time": "2025-03-20T15:08:20.319922Z"
    }
   },
   "source": "os.chdir(\"../\")",
   "outputs": [],
   "execution_count": 3
  },
  {
   "cell_type": "code",
   "id": "cf830efff0db178e",
   "metadata": {
    "ExecuteTime": {
     "end_time": "2025-03-20T15:08:21.365230Z",
     "start_time": "2025-03-20T15:08:21.337654Z"
    }
   },
   "source": [
    "%pwd"
   ],
   "outputs": [
    {
     "data": {
      "text/plain": [
       "'C:\\\\Users\\\\kisho\\\\MyWork\\\\RedWineQuality'"
      ]
     },
     "execution_count": 4,
     "metadata": {},
     "output_type": "execute_result"
    }
   ],
   "execution_count": 4
  },
  {
   "cell_type": "code",
   "id": "24bba2b032b1a591",
   "metadata": {
    "ExecuteTime": {
     "end_time": "2025-03-20T15:08:24.542371Z",
     "start_time": "2025-03-20T15:08:24.525200Z"
    }
   },
   "source": [
    "from dataclasses import dataclass\n",
    "from pathlib import Path\n",
    "\n",
    "@dataclass(frozen=True)\n",
    "class DataIngestionConfig:\n",
    "    root_dir: Path\n",
    "    source_URL: str\n",
    "    local_data_file: Path\n",
    "    unzip_dir: Path"
   ],
   "outputs": [],
   "execution_count": 5
  },
  {
   "metadata": {
    "ExecuteTime": {
     "end_time": "2025-03-20T15:08:28.092138Z",
     "start_time": "2025-03-20T15:08:26.508807Z"
    }
   },
   "cell_type": "code",
   "source": [
    "from src.constants import *\n",
    "from src.utils.common import read_yaml, create_directories"
   ],
   "id": "fb2988cf51394d20",
   "outputs": [],
   "execution_count": 6
  },
  {
   "metadata": {
    "ExecuteTime": {
     "end_time": "2025-03-20T15:08:32.257908Z",
     "start_time": "2025-03-20T15:08:32.243192Z"
    }
   },
   "cell_type": "code",
   "source": [
    "class ConfigurationManager:\n",
    "    def __init__(self, \n",
    "                 config_filepath = CONFIG_FILE_PATH, \n",
    "                 schema_filepath = SCHEMA_FILE_PATH,\n",
    "                params_filepath = PARAMS_FILE_PATH):\n",
    "        \n",
    "        self.config = read_yaml(config_filepath)\n",
    "        self.schema = read_yaml(schema_filepath)\n",
    "        self.params = read_yaml(params_filepath)\n",
    "        \n",
    "        create_directories([self.config.artifacts_root])\n",
    "        \n",
    "    def get_data_ingestion_config(self) -> DataIngestionConfig:\n",
    "        \n",
    "        config = self.config.data_ingestion\n",
    "        \n",
    "        create_directories([config.root_dir])\n",
    "        \n",
    "        data_ingestion_config = DataIngestionConfig(\n",
    "            root_dir = config.root_dir,\n",
    "            source_URL = config.source_URL,\n",
    "            local_data_file = config.local_data_file,\n",
    "            unzip_dir = config.unzip_dir\n",
    "        )\n",
    "        \n",
    "        return data_ingestion_config\n",
    "    \n",
    "            "
   ],
   "id": "39e81fcb37daad2b",
   "outputs": [],
   "execution_count": 7
  },
  {
   "metadata": {
    "ExecuteTime": {
     "end_time": "2025-03-20T15:52:36.596318Z",
     "start_time": "2025-03-20T15:52:36.577532Z"
    }
   },
   "cell_type": "code",
   "source": [
    "import os\n",
    "from urllib import request\n",
    "import zipfile\n",
    "from src.logging import logger\n",
    "from src.utils.common import get_size"
   ],
   "id": "684ba5e0df6ee01b",
   "outputs": [],
   "execution_count": 11
  },
  {
   "metadata": {
    "ExecuteTime": {
     "end_time": "2025-03-20T16:12:07.370417Z",
     "start_time": "2025-03-20T16:12:07.267120Z"
    }
   },
   "cell_type": "code",
   "source": "get_size(Path(\"logs/running_logs.log\"))",
   "id": "c483f1c2245e869b",
   "outputs": [
    {
     "data": {
      "text/plain": [
       "'~ 4 KB'"
      ]
     },
     "execution_count": 12,
     "metadata": {},
     "output_type": "execute_result"
    }
   ],
   "execution_count": 12
  },
  {
   "metadata": {
    "ExecuteTime": {
     "end_time": "2025-03-20T16:33:01.522902Z",
     "start_time": "2025-03-20T16:33:01.352394Z"
    }
   },
   "cell_type": "code",
   "source": [
    "class DataIngestion:\n",
    "    \"\"\"\n",
    "    A class to handle data ingestion tasks, including downloading and extracting files.\n",
    "\n",
    "    Attributes:\n",
    "        config (DataIngestionConfig): Configuration object containing paths and URLs for data ingestion.\n",
    "    \"\"\"\n",
    "\n",
    "    def __init__(self, config: DataIngestionConfig) -> None:\n",
    "        \"\"\"\n",
    "        Initializes the DataIngestion class with the provided configuration.\n",
    "\n",
    "        Args:\n",
    "            config (DataIngestionConfig): Configuration object for data ingestion.\n",
    "        \"\"\"\n",
    "        self.config = config\n",
    "\n",
    "    def download_file(self) -> None:\n",
    "        \"\"\"\n",
    "        Downloads the file from the source URL specified in the configuration.\n",
    "\n",
    "        The downloaded file is saved to the path specified in `self.config.local_data_file`.\n",
    "        If the file already exists, it logs the file size instead of re-downloading.\n",
    "\n",
    "        Raises:\n",
    "            Exception: If the download fails due to network issues or invalid URLs.\n",
    "        \"\"\"\n",
    "        if not os.path.exists(self.config.local_data_file):\n",
    "            try:\n",
    "                filename, headers = request.urlretrieve(\n",
    "                    url=self.config.source_URL,\n",
    "                    filename=self.config.local_data_file\n",
    "                )\n",
    "                logger.info(f\"File downloaded successfully: {filename}\")\n",
    "                logger.debug(f\"Download headers: {headers}\")\n",
    "            except Exception as e:\n",
    "                logger.error(f\"Failed to download file from {self.config.source_URL}: {e}\")\n",
    "                raise\n",
    "        else:\n",
    "            file_size = get_size(Path(self.config.local_data_file))\n",
    "            logger.info(f\"File already exists: {self.config.local_data_file} (Size: {file_size})\")\n",
    "\n",
    "    def extract_zip_file(self) -> None:\n",
    "        \"\"\"\n",
    "        Extracts the contents of the zip file specified in `self.config.local_data_file`.\n",
    "\n",
    "        The contents are extracted to the directory specified in `self.config.unzip_dir`.\n",
    "        If the extraction directory does not exist, it is created.\n",
    "\n",
    "        Raises:\n",
    "            Exception: If the extraction fails due to invalid zip files or I/O errors.\n",
    "        \"\"\"\n",
    "        unzip_path = self.config.unzip_dir\n",
    "        try:\n",
    "            # Create the extraction directory if it doesn't exist\n",
    "            os.makedirs(unzip_path, exist_ok=True)\n",
    "            logger.info(f\"Extracting zip file to: {unzip_path}\")\n",
    "\n",
    "            # Extract the zip file\n",
    "            with zipfile.ZipFile(self.config.local_data_file, \"r\") as zip_ref:\n",
    "                zip_ref.extractall(path=unzip_path)\n",
    "            logger.info(f\"Successfully extracted zip file: {self.config.local_data_file}\")\n",
    "        except zipfile.BadZipFile:\n",
    "            logger.error(f\"Invalid zip file: {self.config.local_data_file}\")\n",
    "            raise\n",
    "        except Exception as e:\n",
    "            logger.error(f\"Failed to extract zip file: {e}\")\n",
    "            raise"
   ],
   "id": "473837eb724cf9e4",
   "outputs": [],
   "execution_count": 13
  },
  {
   "metadata": {
    "ExecuteTime": {
     "end_time": "2025-03-20T16:38:59.950148Z",
     "start_time": "2025-03-20T16:38:57.606669Z"
    }
   },
   "cell_type": "code",
   "source": [
    "try:\n",
    "    config = ConfigurationManager()\n",
    "    data_ingestion_config = config.get_data_ingestion_config()\n",
    "    data_ingestion = DataIngestion(config=data_ingestion_config)\n",
    "    data_ingestion.download_file()\n",
    "    data_ingestion.extract_zip_file()\n",
    "except Exception as e:\n",
    "    logger.error(f\"Error in {e}\")\n",
    "    raise e"
   ],
   "id": "e363709e27cb35bb",
   "outputs": [
    {
     "name": "stdout",
     "output_type": "stream",
     "text": [
      "[2025-03-20 22:08:57,696: INFO: common: config\\config.yaml file loaded successfully]\n",
      "[2025-03-20 22:08:57,732: INFO: common: schema.yaml file loaded successfully]\n",
      "[2025-03-20 22:08:57,738: INFO: common: params.yaml file loaded successfully]\n",
      "Directory 'artifacts' already exists.\n",
      "Directory 'artifacts/data_ingestion' already exists.\n",
      "[2025-03-20 22:08:59,889: INFO: 3957638715: File downloaded successfully: artifacts/data_ingestion/data.zip]\n",
      "[2025-03-20 22:08:59,920: INFO: 3957638715: Extracting zip file to: artifacts/data_ingestion]\n",
      "[2025-03-20 22:08:59,946: INFO: 3957638715: Successfully extracted zip file: artifacts/data_ingestion/data.zip]\n"
     ]
    }
   ],
   "execution_count": 14
  },
  {
   "metadata": {},
   "cell_type": "code",
   "outputs": [],
   "execution_count": null,
   "source": "",
   "id": "2c79076caac4ef0d"
  }
 ],
 "metadata": {
  "kernelspec": {
   "display_name": "Python 3 (ipykernel)",
   "language": "python",
   "name": "python3"
  },
  "language_info": {
   "codemirror_mode": {
    "name": "ipython",
    "version": 3
   },
   "file_extension": ".py",
   "mimetype": "text/x-python",
   "name": "python",
   "nbconvert_exporter": "python",
   "pygments_lexer": "ipython3",
   "version": "3.12.2"
  }
 },
 "nbformat": 4,
 "nbformat_minor": 5
}
