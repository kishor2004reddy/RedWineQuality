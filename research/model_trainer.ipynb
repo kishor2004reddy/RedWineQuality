{
 "cells": [
  {
   "cell_type": "code",
   "id": "initial_id",
   "metadata": {
    "collapsed": true,
    "ExecuteTime": {
     "end_time": "2025-03-21T10:48:16.744224Z",
     "start_time": "2025-03-21T10:48:16.709727Z"
    }
   },
   "source": [
    "import os\n",
    "\n",
    "import pandas as pd"
   ],
   "execution_count": 1,
   "outputs": []
  },
  {
   "metadata": {
    "ExecuteTime": {
     "end_time": "2025-03-21T10:48:19.179034Z",
     "start_time": "2025-03-21T10:48:19.156572Z"
    }
   },
   "cell_type": "code",
   "source": "os.chdir(\"../\")",
   "id": "67d97fd04243ed79",
   "execution_count": 2,
   "outputs": []
  },
  {
   "metadata": {
    "ExecuteTime": {
     "end_time": "2025-03-21T10:48:21.291730Z",
     "start_time": "2025-03-21T10:48:21.262372Z"
    }
   },
   "cell_type": "code",
   "source": "%pwd",
   "id": "4f9c5f1c2200f144",
   "execution_count": 3,
   "outputs": []
  },
  {
   "metadata": {
    "ExecuteTime": {
     "end_time": "2025-03-21T10:48:23.650694Z",
     "start_time": "2025-03-21T10:48:23.632840Z"
    }
   },
   "cell_type": "code",
   "source": [
    "from dataclasses import dataclass\n",
    "from pathlib import Path\n",
    "\n",
    "@dataclass(frozen=True)\n",
    "class ModelTrainerConfig:\n",
    "    root_dir: Path\n",
    "    train_data_path: Path\n",
    "    test_data_path: Path\n",
    "    model_name: str\n",
    "    alpha: float\n",
    "    l1_ratio: float\n",
    "    target_column: str"
   ],
   "id": "80b3d056afe6b34a",
   "execution_count": 4,
   "outputs": []
  },
  {
   "metadata": {
    "ExecuteTime": {
     "end_time": "2025-03-21T10:48:26.166367Z",
     "start_time": "2025-03-21T10:48:25.262416Z"
    }
   },
   "cell_type": "code",
   "source": [
    "from src.constants import *\n",
    "from src.utils.common import read_yaml, create_directories\n",
    "\n",
    "class ConfigurationManager:\n",
    "    def __init__(self, \n",
    "                 config_filepath = CONFIG_FILE_PATH, \n",
    "                 schema_filepath = SCHEMA_FILE_PATH,\n",
    "                params_filepath = PARAMS_FILE_PATH):\n",
    "        \n",
    "        self.config = read_yaml(config_filepath)\n",
    "        self.schema = read_yaml(schema_filepath)\n",
    "        self.params = read_yaml(params_filepath)\n",
    "        \n",
    "        create_directories([self.config.artifacts_root])\n",
    "    \n",
    "    def get_model_trainer_config(self) -> ModelTrainerConfig:\n",
    "        \n",
    "        config = self.config.model_trainer\n",
    "        params = self.params.ElasticNet\n",
    "        schema = self.schema.TARGET_COLUMN\n",
    "        \n",
    "        create_directories([config.root_dir])\n",
    "        \n",
    "        model_trainer_config = ModelTrainerConfig(\n",
    "            root_dir=config.root_dir,\n",
    "            train_data_path=config.train_data_path,\n",
    "            test_data_path=config.test_data_path,\n",
    "            model_name=config.model_name,\n",
    "            l1_ratio=params.l1_ratio,\n",
    "            alpha=params.alpha,\n",
    "            target_column=schema.name\n",
    "        )\n",
    "        return model_trainer_config\n"
   ],
   "id": "b84cdd079113c71e",
   "execution_count": 5,
   "outputs": []
  },
  {
   "metadata": {
    "ExecuteTime": {
     "end_time": "2025-03-21T10:59:21.810021Z",
     "start_time": "2025-03-21T10:59:21.775139Z"
    }
   },
   "cell_type": "code",
   "source": [
    "import pandas as pd\n",
    "from sklearn.linear_model import ElasticNet\n",
    "import joblib\n",
    "\n",
    "class ModelTrainer:\n",
    "    \n",
    "    def __init__(self, config: ModelTrainerConfig):\n",
    "       self.config = config\n",
    "    \n",
    "    def train(self):\n",
    "        \n",
    "        train = pd.read_csv(self.config.train_data_path)\n",
    "        test = pd.read_csv(self.config.test_data_path)\n",
    "            \n",
    "        X_train = train.drop(columns = [self.config.target_column])\n",
    "        X_test = test.drop(columns = [self.config.target_column])\n",
    "        y_train = train[self.config.target_column]\n",
    "        y_test = test[self.config.target_column]\n",
    "        \n",
    "        print(X_train.shape, y_train.shape)\n",
    "        \n",
    "        en = ElasticNet(alpha=self.config.alpha, l1_ratio=self.config.l1_ratio, random_state=42)\n",
    "        en.fit(X_train, y_train)\n",
    "        \n",
    "        joblib.dump(en, os.path.join(self.config.root_dir, self.config.model_name))\n",
    "\n"
   ],
   "id": "dcc712a4fa0d8aa1",
   "execution_count": 10,
   "outputs": []
  },
  {
   "metadata": {
    "ExecuteTime": {
     "end_time": "2025-03-21T10:59:24.680124Z",
     "start_time": "2025-03-21T10:59:24.596468Z"
    }
   },
   "cell_type": "code",
   "source": [
    "try:\n",
    "    config = ConfigurationManager()\n",
    "    model_trainer_config = config.get_model_trainer_config()\n",
    "    model_trainer = ModelTrainer(config=model_trainer_config)\n",
    "    model_trainer.train()\n",
    "except Exception as e:\n",
    "    raise e"
   ],
   "id": "9bbca45bb7ab79f0",
   "execution_count": 11,
   "outputs": []
  },
  {
   "metadata": {},
   "cell_type": "code",
   "execution_count": null,
   "source": "",
   "id": "4a34395593da3055",
   "outputs": []
  }
 ],
 "metadata": {
  "kernelspec": {
   "display_name": "Python 3",
   "language": "python",
   "name": "python3"
  },
  "language_info": {
   "codemirror_mode": {
    "name": "ipython",
    "version": 2
   },
   "file_extension": ".py",
   "mimetype": "text/x-python",
   "name": "python",
   "nbconvert_exporter": "python",
   "pygments_lexer": "ipython2",
   "version": "2.7.6"
  }
 },
 "nbformat": 4,
 "nbformat_minor": 5
}
