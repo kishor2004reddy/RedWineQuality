{
 "cells": [
  {
   "cell_type": "code",
   "id": "initial_id",
   "metadata": {
    "collapsed": true,
    "ExecuteTime": {
     "end_time": "2025-03-20T10:48:24.237892Z",
     "start_time": "2025-03-20T10:48:24.215827Z"
    }
   },
   "source": "import os",
   "outputs": [],
   "execution_count": 1
  },
  {
   "metadata": {
    "ExecuteTime": {
     "end_time": "2025-03-20T12:58:24.303426Z",
     "start_time": "2025-03-20T12:58:24.227477Z"
    }
   },
   "cell_type": "code",
   "source": "%pwd",
   "id": "d3fa8e302914e574",
   "outputs": [
    {
     "data": {
      "text/plain": [
       "'C:\\\\Users\\\\kisho\\\\MyWork\\\\RedWineQuality\\\\research'"
      ]
     },
     "execution_count": 2,
     "metadata": {},
     "output_type": "execute_result"
    }
   ],
   "execution_count": 2
  },
  {
   "metadata": {
    "ExecuteTime": {
     "end_time": "2025-03-20T12:58:51.716126Z",
     "start_time": "2025-03-20T12:58:51.674402Z"
    }
   },
   "cell_type": "code",
   "source": "%cd \"../\"",
   "id": "98c152b3934093f3",
   "outputs": [
    {
     "name": "stdout",
     "output_type": "stream",
     "text": [
      "C:\\Users\\kisho\\MyWork\\RedWineQuality\n"
     ]
    }
   ],
   "execution_count": 3
  },
  {
   "metadata": {
    "ExecuteTime": {
     "end_time": "2025-03-20T12:59:11.527160Z",
     "start_time": "2025-03-20T12:59:11.314441Z"
    }
   },
   "cell_type": "code",
   "source": "%pwd",
   "id": "cf830efff0db178e",
   "outputs": [
    {
     "data": {
      "text/plain": [
       "'C:\\\\Users\\\\kisho\\\\MyWork\\\\RedWineQuality'"
      ]
     },
     "execution_count": 4,
     "metadata": {},
     "output_type": "execute_result"
    }
   ],
   "execution_count": 4
  },
  {
   "metadata": {},
   "cell_type": "code",
   "outputs": [],
   "execution_count": null,
   "source": "",
   "id": "24bba2b032b1a591"
  }
 ],
 "metadata": {
  "kernelspec": {
   "display_name": "Python 3",
   "language": "python",
   "name": "python3"
  },
  "language_info": {
   "codemirror_mode": {
    "name": "ipython",
    "version": 2
   },
   "file_extension": ".py",
   "mimetype": "text/x-python",
   "name": "python",
   "nbconvert_exporter": "python",
   "pygments_lexer": "ipython2",
   "version": "2.7.6"
  }
 },
 "nbformat": 4,
 "nbformat_minor": 5
}
